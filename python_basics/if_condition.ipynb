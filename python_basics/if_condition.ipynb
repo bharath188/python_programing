{
 "cells": [
  {
   "cell_type": "code",
   "execution_count": 7,
   "metadata": {},
   "outputs": [
    {
     "name": "stdout",
     "output_type": "stream",
     "text": [
      "The number is positive\n"
     ]
    }
   ],
   "source": [
    "#WPA to check whether a number is positive if positive print a message positive.\n",
    "num =10\n",
    "if num>0:\n",
    "    print(\"The number is positive\")"
   ]
  },
  {
   "cell_type": "code",
   "execution_count": 15,
   "metadata": {},
   "outputs": [
    {
     "name": "stdout",
     "output_type": "stream",
     "text": [
      "x\n"
     ]
    }
   ],
   "source": [
    "#21.WAP TO CHECK WHETHER A GIVEN VALUE IS PRESENT IN B/W 45 TO 125 AND THE NUMBER SHOULD BE DIVISIBLE BY 4 AND 5 AND EVEN VALUE IF SATISFIED TO DISPLAY THE ASCII CHARACTER\n",
    "num=120\n",
    "if num>=45 and num<=125 and num%4==0 and num%5==0 and num%2==0:\n",
    "    print(chr(num))\n"
   ]
  },
  {
   "cell_type": "code",
   "execution_count": 8,
   "metadata": {},
   "outputs": [
    {
     "name": "stdout",
     "output_type": "stream",
     "text": [
      "200\n"
     ]
    }
   ],
   "source": [
    "#22. WAP TO CHECK WHETHER A GIVEN VALUE IS  PRESENT IN BETWEEN 25 TO 100 AND THE NUMBER SHOULD BE DIVISIBLE BY 4 AND 5 IF SATISFIED TO DISPLAY MULTIPLICATION OF GIVEN VALUE WITH 5\n",
    "num=40\n",
    "if num>=25 and num<=100 and num%4==0 and num%5==0:\n",
    "    print(num*5)"
   ]
  },
  {
   "cell_type": "code",
   "execution_count": 16,
   "metadata": {},
   "outputs": [
    {
     "name": "stdout",
     "output_type": "stream",
     "text": [
      "55\n"
     ]
    }
   ],
   "source": [
    "#23. WAP TO CHECK WHETHER A GIVEN NUMBER IS AN INTEGER AND ODD NUMBER IF THE CONDITION IS SATISFIED THE INTEGER IS DIVISIBLE BY 5 AND DISPLAYS THE RESULT\n",
    "num=55\n",
    "if type(num)==int and num%2!=0 and num%5==0:\n",
    "    print(num)"
   ]
  },
  {
   "cell_type": "code",
   "execution_count": 18,
   "metadata": {},
   "outputs": [
    {
     "name": "stdout",
     "output_type": "stream",
     "text": [
      "5\n"
     ]
    }
   ],
   "source": [
    "#24. WAP TO CHECK WHETHER A GIVEN VALUE IS AN  INTEGER OR NOT IF INTEGER THE GIVEN VALUE IS CONVERTED TO STRING AND DISPLAYS THE RESULT\n",
    "num=5\n",
    "if type(num)==int:\n",
    "    print(str(num))"
   ]
  },
  {
   "cell_type": "code",
   "execution_count": null,
   "metadata": {},
   "outputs": [],
   "source": [
    "#25. WAP TO CHECK WHETHER A GIVEN VALUE IS LESS THAN 125 AND GREATER THAN 60 OR NOT IF THE CONDITION IS SATISFIED TAKE THE NAME AND EXTRACT THE MIDDLE CHARACTR AND DISPLAY IT\n"
   ]
  }
 ],
 "metadata": {
  "kernelspec": {
   "display_name": "Python 3",
   "language": "python",
   "name": "python3"
  },
  "language_info": {
   "codemirror_mode": {
    "name": "ipython",
    "version": 3
   },
   "file_extension": ".py",
   "mimetype": "text/x-python",
   "name": "python",
   "nbconvert_exporter": "python",
   "pygments_lexer": "ipython3",
   "version": "3.11.4"
  },
  "orig_nbformat": 4
 },
 "nbformat": 4,
 "nbformat_minor": 2
}
